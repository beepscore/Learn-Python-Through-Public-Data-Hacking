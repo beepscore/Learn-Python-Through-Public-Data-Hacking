{
 "cells": [
  {
   "cell_type": "code",
   "execution_count": 4,
   "metadata": {
    "collapsed": true
   },
   "outputs": [],
   "source": [
    "# %load food_inspections/food_inspections.py\n",
    "#!/usr/bin/env python3\n",
    "\n",
    "# food inspections data\n",
    "# download as .csv file, original name Food_Inspections.csv\n",
    "# Put in data/input/Food_Inspections.csv\n",
    "# 174 Mb\n",
    "# fields\n",
    "# Inspection ID,DBA Name,AKA Name,License #,Facility Type,Risk,Address,City,State,Zip,Inspection Date,Inspection Type,Results,Violations,Latitude,Longitude,Location\n",
    "# example rows\n",
    "# 1990078,THE DUGOUT,THE DUGOUT,2492994,Restaurant,Risk 2 (Medium),950 W ADDISON ST ,CHICAGO,IL,60613,03/03/2017,License Re-Inspection,Pass,\"2. FACILITIES TO MAINTAIN PROPER TEMPERATURE - Comments: REACH IN COOLER AT 31.4F. | 16. FOOD PROTECTED DURING STORAGE, PREPARATION, DISPLAY, SERVICE AND TRANSPORTATION - Comments: BARRIER PROVIDED FOR BAR. ICE MACHINE CLEANED AT LOWER LEVEL KITCHEN. | 18. NO EVIDENCE OF RODENT OR INSECT OUTER OPENINGS PROTECTED/RODENT PROOFED, A WRITTEN LOG SHALL BE MAINTAINED AVAILABLE TO THE INSPECTORS - Comments: FRONT DOOR RODENT PROOFED AT BOTTOM. | 30. FOOD IN ORIGINAL CONTAINER, PROPERLY LABELED: CUSTOMER ADVISORY POSTED AS NEEDED - Comments: NO CONSUMER ADVISORY POSTED REGARDING CONSUMPTION OF UNDERCOOKED ANIMAL FOODS. MUST POST. | 34. FLOORS: CONSTRUCTED PER CODE, CLEANED, GOOD REPAIR, COVING INSTALLED, DUST-LESS CLEANING METHODS USED - Comments: FOUND NO BASE COVING BELOW BAR 1ST FLOOR. MUST PROVIDE. FOUND MISSING FLOOR TILE AT MAIN KITCHEN BY COOKING EQUIPMENT. MUST REPLACE. | 35. WALLS, CEILINGS, ATTACHED EQUIPMENT CONSTRUCTED PER CODE: GOOD REPAIR, SURFACES CLEAN AND DUST-LESS CLEANING METHODS - Comments: FOUND WALL BEHIND MAIN BAR NOT EASY TO CLEAN. MUST SEAL TO BE EASILY CLEANABLE. ALSO, FOUND SOME HOLES ON SAME WALL THAT MUST BE SEALED. | 38. VENTILATION: ROOMS AND EQUIPMENT VENTED AS REQUIRED: PLUMBING: INSTALLED AND MAINTAINED - Comments: FOUND DRAIN SHELF NOT DIRECTLY ON TOP OF 3 COMPARTMENT SINK AT MAIN KITCHEN. MUST RELOCATE. FOUND EXHAUST FAN NOT WORKING AT WOMEN'S RESTROOM AT LOWER LEVEL. MUST REPAIR/REPLACE. | 41. PREMISES MAINTAINED FREE OF LITTER, UNNECESSARY ARTICLES, CLEANING  EQUIPMENT PROPERLY STORED - Comments: FOUND LIQUOR REAR STORAGE ROOM AND SMALL STORAGE CLOSET BY BAR AT LOWER LEVEL CLUTTERED. MUST CLEAN AND ORGANIZE.\",41.947359980046166,-87.65393244544859,\"(41.947359980046166, -87.65393244544859)\"\n",
    "# 1990074,THE SHRIMP SHACK,THE SHRIMP SHACK,1939047,Restaurant,Risk 1 (High),6601 W ARCHER AVE ,CHICAGO,IL,60638,03/03/2017,Canvass,Fail,\"18. NO EVIDENCE OF RODENT OR INSECT OUTER OPENINGS PROTECTED/RODENT PROOFED, A WRITTEN LOG SHALL BE MAINTAINED AVAILABLE TO THE INSPECTORS - Comments: MICE DROPPINGS (20) NOTED SCATTERED ON FLOOR ALONG WALL BASE IN REAR STORAGE ROOM WHERE  HOT WATER TANK LOCATED AND FRONT STORAGE AREA WHERE FURNACE AND BEVERAGE STORAGE NOTED. LARGE HOLE NOTED AROUND PIPE IN WALL NEAR HOT WATER TANK. SIDE ENTRANCE DOOR NOT RODENT PROOF, APPROX 1/4 INCH GAP. INSTD TO REMOVE ALL DROPPINGS, CLEAN AND SANITIZE ALL AFFECTED AREAS, SEAL HOLE IN WALL, RODENT PROOF DOOR SO AS TO BE TIGHT FITTING. LAST PEST CONTROL SERVICE RECEIPT 8/26/16. INSTD TO PROVIDE UPDATED RECEIPT. SERIOUS 7-38-020. | 30. FOOD IN ORIGINAL CONTAINER, PROPERLY LABELED: CUSTOMER ADVISORY POSTED AS NEEDED - Comments: PRE PACKAGED CRAB AND SHRIMP SALAD, POTATO SALAD AND PACKAGED CONTAINERS OF SHRIMP NOT PROPER LABELED. INSTD TO PROPERLY LABEL (NAME OF BUSINESS, INGREDIENTS, DATE, ETC). | 33. FOOD AND NON-FOOD CONTACT EQUIPMENT UTENSILS CLEAN, FREE OF ABRASIVE DETERGENTS - Comments: INTERIOR BOTTOM CABINETS IN REAR OF FRYERS NOT CLEAN, EXCESSIVE DEBRIS. INSTD TO CLEAN AND MAINTAIN. | 35. WALLS, CEILINGS, ATTACHED EQUIPMENT CONSTRUCTED PER CODE: GOOD REPAIR, SURFACES CLEAN AND DUST-LESS CLEANING METHODS - Comments: GAP NOTED AT WALL AND FLOOR IN FRONT STORAGE CLOSET WHERE BOTTLED BEVERAGES STORED. INSTD TO REPAIR/SEAL PROPERLY. | 34. FLOORS: CONSTRUCTED PER CODE, CLEANED, GOOD REPAIR, COVING INSTALLED, DUST-LESS CLEANING METHODS USED - Comments: FLOOR IN PREP AREA WITH UNEVEN SURFACES. INSTD TO PROVIDE FLOOR SURFACE TO BE SMOOTH, EVEN, EASILY CLEANABLE SURFACE.\",41.792138942200104,-87.78674847587374,\"(41.792138942200104, -87.78674847587374)\"\n",
    "\n",
    "import csv\n",
    "from collections import OrderedDict\n",
    "\n",
    "DBA_NAME = 'DBA Name'\n",
    "RISK = 'Risk'\n",
    "\n",
    "\n",
    "def inspections_unsorted(filename):\n",
    "    f = open(filename)\n",
    "\n",
    "    inspections = {}\n",
    "    row_number = 0\n",
    "\n",
    "    # DictReader reads csv into a dictionary, uses row 0 field names for keys\n",
    "    for row in csv.DictReader(f):\n",
    "\n",
    "        # can print to help debug error due to messy input file\n",
    "        # print('row_number', row_number)\n",
    "\n",
    "        risk = row[RISK]\n",
    "        if risk is None:\n",
    "            risk = ''\n",
    "\n",
    "        dba_name = row[DBA_NAME]\n",
    "        # Python dictionary key can be a string or an int\n",
    "        if dba_name is None:\n",
    "            # go to next iteration\n",
    "            continue\n",
    "\n",
    "        if dba_name not in inspections:\n",
    "            # not in dictionary, so add an array with it\n",
    "            inspections[dba_name] = [risk]\n",
    "        else:\n",
    "            inspections[dba_name].append(risk)\n",
    "\n",
    "        row_number += 1\n",
    "\n",
    "    f.close()\n",
    "    # print(inspections)\n",
    "    return inspections\n",
    "\n",
    "\n",
    "def inspections_sorted(filename):\n",
    "    inspections = inspections_unsorted(filename)\n",
    "    # convert dict inspections to SortedDict\n",
    "    # sort by value number of risks, decreasing order\n",
    "    # https://docs.python.org/3/library/collections.html#ordereddict-examples-and-recipes\n",
    "    # http://stackoverflow.com/questions/613183/sort-a-python-dictionary-by-value (see comments)\n",
    "    ordered = OrderedDict(sorted(inspections.items(), key=lambda t: len(t[1]), reverse=True))\n",
    "    return ordered\n",
    "\n"
   ]
  },
  {
   "cell_type": "code",
   "execution_count": 5,
   "metadata": {},
   "outputs": [
    {
     "name": "stderr",
     "output_type": "stream",
     "text": [
      "E\n",
      "======================================================================\n",
      "ERROR: /Users/stevebaker/Library/Jupyter/runtime/kernel-3847d9a2-a3f9-401c-af9e-219f2295bca2 (unittest.loader._FailedTest)\n",
      "----------------------------------------------------------------------\n",
      "AttributeError: module '__main__' has no attribute '/Users/stevebaker/Library/Jupyter/runtime/kernel-3847d9a2-a3f9-401c-af9e-219f2295bca2'\n",
      "\n",
      "----------------------------------------------------------------------\n",
      "Ran 1 test in 0.002s\n",
      "\n",
      "FAILED (errors=1)\n"
     ]
    },
    {
     "ename": "SystemExit",
     "evalue": "True",
     "output_type": "error",
     "traceback": [
      "An exception has occurred, use %tb to see the full traceback.\n",
      "\u001b[0;31mSystemExit\u001b[0m\u001b[0;31m:\u001b[0m True\n"
     ]
    },
    {
     "name": "stderr",
     "output_type": "stream",
     "text": [
      "/Users/stevebaker/anaconda/lib/python3.6/site-packages/IPython/core/interactiveshell.py:2889: UserWarning: To exit: use 'exit', 'quit', or Ctrl-D.\n",
      "  warn(\"To exit: use 'exit', 'quit', or Ctrl-D.\", stacklevel=1)\n"
     ]
    }
   ],
   "source": [
    "# %load tests/test_food_inspections.py\n",
    "#!/usr/bin/env python3\n",
    "\n",
    "import unittest\n",
    "from food_inspections import food_inspections\n",
    "\n",
    "\n",
    "class TestInspections(unittest.TestCase):\n",
    "\n",
    "    def test_inspections_sorted(self):\n",
    "        inspections = food_inspections.inspections_sorted('data/input/Food_Inspections.csv')\n",
    "        # http://stackoverflow.com/questions/30250715/how-do-you-get-the-first-3-elements-in-python-ordereddict#30250803\n",
    "        self.assertEqual(len(list(inspections.items())[0]), 2)\n",
    "\n",
    "if __name__ == \"__main__\":\n",
    "    # When running jupyter notebook, unittest.main() with no args will throw an error unittest.loader._Failed\n",
    "    unittest.main()\n"
   ]
  },
  {
   "cell_type": "code",
   "execution_count": 6,
   "metadata": {},
   "outputs": [
    {
     "name": "stderr",
     "output_type": "stream",
     "text": [
      "test_inspections_sorted (__main__.TestInspections) ... ok\n",
      "\n",
      "----------------------------------------------------------------------\n",
      "Ran 1 test in 6.188s\n",
      "\n",
      "OK\n"
     ]
    },
    {
     "data": {
      "text/plain": [
       "<unittest.main.TestProgram at 0x109ebc710>"
      ]
     },
     "execution_count": 6,
     "metadata": {},
     "output_type": "execute_result"
    }
   ],
   "source": [
    "# main args for use in jupyter notebook\n",
    "# http://stackoverflow.com/questions/37895781/unable-to-run-unittests-main-function-in-ipython-jupyter-notebook#38012249\n",
    "unittest.main(argv=['ignored', '-v'], exit=False)\n",
    "\n",
    "# HOW TO RUN TESTS:\n",
    "# Select first cell, then Menu Cell / Run.\n",
    "# Select second cell, then Menu Cell / Run. This will show error unittest.loader._Failed\n",
    "# Select this cell, then Menu Cell / Run.\n",
    "# Cell should show output similar to:\n",
    "\n",
    "# test_inspections_sorted (__main__.TestInspections) ... ok\n",
    "# ----------------------------------------------------------------------\n",
    "# Ran 1 test in 3.935s\n",
    "# OK"
   ]
  },
  {
   "cell_type": "code",
   "execution_count": null,
   "metadata": {
    "collapsed": true
   },
   "outputs": [],
   "source": []
  }
 ],
 "metadata": {
  "kernelspec": {
   "display_name": "Python 3",
   "language": "python",
   "name": "python3"
  },
  "language_info": {
   "codemirror_mode": {
    "name": "ipython",
    "version": 3
   },
   "file_extension": ".py",
   "mimetype": "text/x-python",
   "name": "python",
   "nbconvert_exporter": "python",
   "pygments_lexer": "ipython3",
   "version": "3.6.1"
  }
 },
 "nbformat": 4,
 "nbformat_minor": 1
}
